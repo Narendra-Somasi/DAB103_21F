{
 "cells": [
  {
   "cell_type": "markdown",
   "id": "44cee89c",
   "metadata": {},
   "source": [
    "## Importing Libraries"
   ]
  },
  {
   "cell_type": "code",
   "execution_count": 4,
   "id": "0da0a385",
   "metadata": {},
   "outputs": [],
   "source": [
    "import pandas as pd\n",
    "import numpy as np\n",
    "from itertools import chain\n",
    "from collections import Counter\n",
    "import matplotlib.pyplot as plt\n",
    "import seaborn as sns"
   ]
  },
  {
   "cell_type": "markdown",
   "id": "e6b85dc8",
   "metadata": {},
   "source": [
    "## Loading the Data"
   ]
  },
  {
   "cell_type": "code",
   "execution_count": null,
   "id": "cef1d45f",
   "metadata": {},
   "outputs": [],
   "source": [
    "df=pd.read_csv(\"D:/DAB103_Project/kaggle_survey_2021_responses.csv\")"
   ]
  },
  {
   "cell_type": "markdown",
   "id": "9ba8cda8",
   "metadata": {},
   "source": [
    "## Describing  the Data"
   ]
  },
  {
   "cell_type": "code",
   "execution_count": 53,
   "id": "962f4ef9",
   "metadata": {
    "scrolled": true
   },
   "outputs": [],
   "source": [
    "df\n",
    "df_2021 = df.drop(0)"
   ]
  },
  {
   "cell_type": "markdown",
   "id": "e61e75ba",
   "metadata": {},
   "source": [
    "<h3>Survey Questions\n",
    "\n",
    "<table class=\"Data_Definition\">\n",
    "  <thead>\n",
    "    <tr>\n",
    "      <th class=\"header\">Number</th>\n",
    "      <th class=\"header\">Question</th>\n",
    "    </tr>\n",
    "  </thead>\n",
    "  <tbody>\n",
    "    <tr>\n",
    "      <td>Q1</td>\n",
    "      <td>What is your age (# years)?</td>\n",
    "    </tr>\n",
    "    <tr>\n",
    "      <td>Q2</td>\n",
    "      <td>What is your gender?</td>\n",
    "    </tr>\n",
    "    <tr>\n",
    "      <td>Q3</td>\n",
    "      <td>In which country do you currently reside?</td>\n",
    "    </tr>\n",
    "    <tr>\n",
    "      <td>Q4</td>\n",
    "      <td>What is the highest level of formal education that you have attained or plan to attain within the next 2 years?</td>\n",
    "    </tr>\n",
    "    <tr>\n",
    "      <td>Q5</td>\n",
    "      <td>Select the title most similar to your current role (or most recent title if retired)</td>\n",
    "    </tr>\n",
    "    <tr>\n",
    "      <td>Q6</td>\n",
    "      <td>For how many years have you been writing code and/or programming?</td>\n",
    "    </tr>\n",
    "    <tr>\n",
    "      <td>Q7</td>\n",
    "      <td>What programming languages do you use on a regular basis?</td>\n",
    "    </tr>\n",
    "    <tr>\n",
    "      <td>Q8</td>\n",
    "      <td>What programming language would you recommend an aspiring data scientist to learn first?</td>\n",
    "    </tr>\n",
    "    <tr>\n",
    "      <td>Q9</td>\n",
    "      <td>Which of the following integrated development environments (IDE's) do you use on a regular basis?</td>\n",
    "    </tr>\n",
    "    <tr>\n",
    "      <td>Q10</td>\n",
    "      <td>Which of the following hosted notebook products do you use on a regular basis? </td>\n",
    "    </tr>\n",
    "    <tr>\n",
    "      <td>Q11</td>\n",
    "      <td>What type of computing platform do you use most often for your data science projects?</td>\n",
    "    </tr>\n",
    "       <tr>\n",
    "      <td>Q12</td>\n",
    "      <td>Which types of specialized hardware do you use on a regular basis?</td>\n",
    "    </tr>  \n",
    "          <tr>\n",
    "      <td>Q13</td>\n",
    "      <td>Approximately how many times have you used a TPU</td>\n",
    "    </tr>  \n",
    "          <tr>\n",
    "      <td>Q14</td>\n",
    "      <td>What data visualization libraries or tools do you use on a regular basis?</td>\n",
    "    </tr>  \n",
    "          <tr>\n",
    "      <td>Q15</td>\n",
    "      <td>For how many years have you used machine learning methods?</td>\n",
    "    </tr>\n",
    "      <tr>\n",
    "          <td>Q16</td>\n",
    "          <td>Which of the following machine learning frameworks do you use on a regular basis?</td>\n",
    "           </tr>\n",
    "       <tr>\n",
    "          <td>Q17</td>\n",
    "          <td>Which of the following ML algorithms do you use on a regular basis?</td>\n",
    "       </tr>  \n",
    "          <tr>\n",
    "      <td>Q18</td>\n",
    "      <td>Which categories of computer vision methods do you use on a regular basis?</td>\n",
    "    </tr>  \n",
    "          <tr>\n",
    "      <td>Q19</td>\n",
    "      <td>Which of the following natural language processing (NLP) methods do you use on a regular basis?</td>\n",
    "    </tr>  \n",
    "          <tr>\n",
    "      <td>Q20</td>\n",
    "      <td>In what industry is your current employer/contract (or your most recent employer if retired)?</td>\n",
    "    </tr>  \n",
    "          <tr>\n",
    "      <td>Q21</td>\n",
    "      <td>What is the size of the company where you are employed?</td>\n",
    "    </tr>  \n",
    "          <tr>\n",
    "      <td>Q22</td>\n",
    "      <td>Approximately how many individuals are responsible for data science workloads at your place of business?</td>\n",
    "    </tr>  \n",
    "          <tr>\n",
    "      <td>Q23</td>\n",
    "      <td>Does your current employer incorporate machine learning methods into their business?</td>\n",
    "    </tr>  \n",
    "          <tr>\n",
    "      <td>Q24</td>\n",
    "      <td>Select any activities that make up an important part of your role at work.</td>\n",
    "    </tr>  \n",
    "          <tr>\n",
    "      <td>Q25</td>\n",
    "      <td>What is your current yearly compensation?</td>\n",
    "    </tr>  \n",
    "          <tr>\n",
    "      <td>Q26</td>\n",
    "      <td>Approximately how much money have you (or your team) spent on machine learning and/or cloud computing services at home (or at work) in the past 5 years?</td>\n",
    "    </tr>  \n",
    "          <tr>\n",
    "      <td>Q27</td>\n",
    "      <td>Which of the following cloud computing platforms do you use on a regular basis?</td>\n",
    "    </tr>   \n",
    "          <tr>\n",
    "      <td>Q28</td>\n",
    "      <td>Of the cloud platforms that you are familiar with, which has the best developer experience (most enjoyable to use)?</td>\n",
    "    </tr>  \n",
    "          <tr>\n",
    "      <td>Q29</td>\n",
    "      <td>Do you use any of the following cloud computing products on a regular basis? </td>\n",
    "    </tr>   \n",
    "          <tr>\n",
    "      <td>Q30</td>\n",
    "      <td>Do you use any of the following data storage products on a regular basis?</td>\n",
    "     </tr>  \n",
    "          <tr>\n",
    "      <td>Q31</td>\n",
    "      <td>In the next 2 years, do you hope to become more familiar with any of these managed machine learning products?</td>\n",
    "    </tr>  \n",
    "          <tr>\n",
    "      <td>Q32</td>\n",
    "      <td>Which of the following big data products (relational databases, data warehouses, data lakes, or similar) do you hope to become more familiar with in the next 2 years?</td>\n",
    "    </tr>  \n",
    "      <tr>\n",
    "      <td>Q33</td>\n",
    "      <td>Which of the following big data products (relational database, data warehouse, data lake, or similar) do you use most often?</td>\n",
    "    </tr>\n",
    "          <tr>\n",
    "      <td>Q34</td>\n",
    "      <td>Which of the following business intelligence tools do you hope to become more familiar with in the next 2 years?</td>\n",
    "    </tr>\n",
    "          <tr>\n",
    "      <td>Q35</td>\n",
    "      <td>Which of the following business intelligence tools do you use most often?</td>\n",
    "    </tr>     \n",
    "          <tr>\n",
    "      <td>Q36</td>\n",
    "      <td>Which categories of automated machine learning tools (or partial AutoML tools) do you hope to become more familiar with in the next 2 years?</td>\n",
    "    </tr>  \n",
    "          <tr>\n",
    "      <td>Q37</td>\n",
    "      <td>Which specific automated machine learning tools (or partial AutoML tools) do you hope to become more familiar with in the next 2 years?</td>\n",
    "    </tr>  \n",
    "          <tr>\n",
    "      <td>Q38</td>\n",
    "      <td>In the next 2 years, do you hope to become more familiar with any of these tools for managing ML experiments?</td>\n",
    "    </tr>  \n",
    "          <tr>\n",
    "      <td>Q39</td>\n",
    "      <td>Where do you publicly share your data analysis or machine learning applications?</td>\n",
    "    </tr>  \n",
    "          <tr>\n",
    "      <td>Q40</td>\n",
    "      <td>On which platforms have you begun or completed data science courses?</td>\n",
    "    </tr>  \n",
    "          <tr>\n",
    "      <td>Q41</td>\n",
    "      <td>What is the primary tool that you use at work or school to analyze data?</td>\n",
    "    </tr>  \n",
    "          <tr>\n",
    "      <td>Q42</td>\n",
    "      <td>Who/what are your favorite media sources that report on data science topics?</td>\n",
    "    </tr>\n",
    "  </tbody>\n",
    "</table>"
   ]
  },
  {
   "cell_type": "markdown",
   "id": "961cad7e",
   "metadata": {},
   "source": [
    "# SCHEMA"
   ]
  },
  {
   "cell_type": "markdown",
   "id": "cd5d2379",
   "metadata": {},
   "source": [
    "### Type and Shape of Dataset"
   ]
  },
  {
   "cell_type": "code",
   "execution_count": 76,
   "id": "c8fd4c2e",
   "metadata": {},
   "outputs": [
    {
     "data": {
      "text/plain": [
       "(25973, 369)"
      ]
     },
     "execution_count": 76,
     "metadata": {},
     "output_type": "execute_result"
    }
   ],
   "source": [
    "type(df_2021)\n",
    "\n",
    "df_2021.shape"
   ]
  },
  {
   "cell_type": "markdown",
   "id": "04549059",
   "metadata": {},
   "source": [
    "## List of Coulmns"
   ]
  },
  {
   "cell_type": "code",
   "execution_count": 52,
   "id": "0cbb8065",
   "metadata": {
    "scrolled": true
   },
   "outputs": [
    {
     "name": "stdout",
     "output_type": "stream",
     "text": [
      "['Time from Start to Finish (seconds)', 'Q1', 'Q2', 'Q3', 'Q4', 'Q5', 'Q6', 'Q7_Part_1', 'Q7_Part_2', 'Q7_Part_3', 'Q7_Part_4', 'Q7_Part_5', 'Q7_Part_6', 'Q7_Part_7', 'Q7_Part_8', 'Q7_Part_9', 'Q7_Part_10', 'Q7_Part_11', 'Q7_Part_12', 'Q7_OTHER', 'Q8', 'Q9_Part_1', 'Q9_Part_2', 'Q9_Part_3', 'Q9_Part_4', 'Q9_Part_5', 'Q9_Part_6', 'Q9_Part_7', 'Q9_Part_8', 'Q9_Part_9', 'Q9_Part_10', 'Q9_Part_11', 'Q9_Part_12', 'Q9_OTHER', 'Q10_Part_1', 'Q10_Part_2', 'Q10_Part_3', 'Q10_Part_4', 'Q10_Part_5', 'Q10_Part_6', 'Q10_Part_7', 'Q10_Part_8', 'Q10_Part_9', 'Q10_Part_10', 'Q10_Part_11', 'Q10_Part_12', 'Q10_Part_13', 'Q10_Part_14', 'Q10_Part_15', 'Q10_Part_16', 'Q10_OTHER', 'Q11', 'Q12_Part_1', 'Q12_Part_2', 'Q12_Part_3', 'Q12_Part_4', 'Q12_Part_5', 'Q12_OTHER', 'Q13', 'Q14_Part_1', 'Q14_Part_2', 'Q14_Part_3', 'Q14_Part_4', 'Q14_Part_5', 'Q14_Part_6', 'Q14_Part_7', 'Q14_Part_8', 'Q14_Part_9', 'Q14_Part_10', 'Q14_Part_11', 'Q14_OTHER', 'Q15', 'Q16_Part_1', 'Q16_Part_2', 'Q16_Part_3', 'Q16_Part_4', 'Q16_Part_5', 'Q16_Part_6', 'Q16_Part_7', 'Q16_Part_8', 'Q16_Part_9', 'Q16_Part_10', 'Q16_Part_11', 'Q16_Part_12', 'Q16_Part_13', 'Q16_Part_14', 'Q16_Part_15', 'Q16_Part_16', 'Q16_Part_17', 'Q16_OTHER', 'Q17_Part_1', 'Q17_Part_2', 'Q17_Part_3', 'Q17_Part_4', 'Q17_Part_5', 'Q17_Part_6', 'Q17_Part_7', 'Q17_Part_8', 'Q17_Part_9', 'Q17_Part_10', 'Q17_Part_11', 'Q17_OTHER', 'Q18_Part_1', 'Q18_Part_2', 'Q18_Part_3', 'Q18_Part_4', 'Q18_Part_5', 'Q18_Part_6', 'Q18_OTHER', 'Q19_Part_1', 'Q19_Part_2', 'Q19_Part_3', 'Q19_Part_4', 'Q19_Part_5', 'Q19_OTHER', 'Q20', 'Q21', 'Q22', 'Q23', 'Q24_Part_1', 'Q24_Part_2', 'Q24_Part_3', 'Q24_Part_4', 'Q24_Part_5', 'Q24_Part_6', 'Q24_Part_7', 'Q24_OTHER', 'Q25', 'Q26', 'Q27_A_Part_1', 'Q27_A_Part_2', 'Q27_A_Part_3', 'Q27_A_Part_4', 'Q27_A_Part_5', 'Q27_A_Part_6', 'Q27_A_Part_7', 'Q27_A_Part_8', 'Q27_A_Part_9', 'Q27_A_Part_10', 'Q27_A_Part_11', 'Q27_A_OTHER', 'Q28', 'Q29_A_Part_1', 'Q29_A_Part_2', 'Q29_A_Part_3', 'Q29_A_Part_4', 'Q29_A_OTHER', 'Q30_A_Part_1', 'Q30_A_Part_2', 'Q30_A_Part_3', 'Q30_A_Part_4', 'Q30_A_Part_5', 'Q30_A_Part_6', 'Q30_A_Part_7', 'Q30_A_OTHER', 'Q31_A_Part_1', 'Q31_A_Part_2', 'Q31_A_Part_3', 'Q31_A_Part_4', 'Q31_A_Part_5', 'Q31_A_Part_6', 'Q31_A_Part_7', 'Q31_A_Part_8', 'Q31_A_Part_9', 'Q31_A_OTHER', 'Q32_A_Part_1', 'Q32_A_Part_2', 'Q32_A_Part_3', 'Q32_A_Part_4', 'Q32_A_Part_5', 'Q32_A_Part_6', 'Q32_A_Part_7', 'Q32_A_Part_8', 'Q32_A_Part_9', 'Q32_A_Part_10', 'Q32_A_Part_11', 'Q32_A_Part_12', 'Q32_A_Part_13', 'Q32_A_Part_14', 'Q32_A_Part_15', 'Q32_A_Part_16', 'Q32_A_Part_17', 'Q32_A_Part_18', 'Q32_A_Part_19', 'Q32_A_Part_20', 'Q32_A_OTHER', 'Q33', 'Q34_A_Part_1', 'Q34_A_Part_2', 'Q34_A_Part_3', 'Q34_A_Part_4', 'Q34_A_Part_5', 'Q34_A_Part_6', 'Q34_A_Part_7', 'Q34_A_Part_8', 'Q34_A_Part_9', 'Q34_A_Part_10', 'Q34_A_Part_11', 'Q34_A_Part_12', 'Q34_A_Part_13', 'Q34_A_Part_14', 'Q34_A_Part_15', 'Q34_A_Part_16', 'Q34_A_OTHER', 'Q35', 'Q36_A_Part_1', 'Q36_A_Part_2', 'Q36_A_Part_3', 'Q36_A_Part_4', 'Q36_A_Part_5', 'Q36_A_Part_6', 'Q36_A_Part_7', 'Q36_A_OTHER', 'Q37_A_Part_1', 'Q37_A_Part_2', 'Q37_A_Part_3', 'Q37_A_Part_4', 'Q37_A_Part_5', 'Q37_A_Part_6', 'Q37_A_Part_7', 'Q37_A_OTHER', 'Q38_A_Part_1', 'Q38_A_Part_2', 'Q38_A_Part_3', 'Q38_A_Part_4', 'Q38_A_Part_5', 'Q38_A_Part_6', 'Q38_A_Part_7', 'Q38_A_Part_8', 'Q38_A_Part_9', 'Q38_A_Part_10', 'Q38_A_Part_11', 'Q38_A_OTHER', 'Q39_Part_1', 'Q39_Part_2', 'Q39_Part_3', 'Q39_Part_4', 'Q39_Part_5', 'Q39_Part_6', 'Q39_Part_7', 'Q39_Part_8', 'Q39_Part_9', 'Q39_OTHER', 'Q40_Part_1', 'Q40_Part_2', 'Q40_Part_3', 'Q40_Part_4', 'Q40_Part_5', 'Q40_Part_6', 'Q40_Part_7', 'Q40_Part_8', 'Q40_Part_9', 'Q40_Part_10', 'Q40_Part_11', 'Q40_OTHER', 'Q41', 'Q42_Part_1', 'Q42_Part_2', 'Q42_Part_3', 'Q42_Part_4', 'Q42_Part_5', 'Q42_Part_6', 'Q42_Part_7', 'Q42_Part_8', 'Q42_Part_9', 'Q42_Part_10', 'Q42_Part_11', 'Q42_OTHER', 'Q27_B_Part_1', 'Q27_B_Part_2', 'Q27_B_Part_3', 'Q27_B_Part_4', 'Q27_B_Part_5', 'Q27_B_Part_6', 'Q27_B_Part_7', 'Q27_B_Part_8', 'Q27_B_Part_9', 'Q27_B_Part_10', 'Q27_B_Part_11', 'Q27_B_OTHER', 'Q29_B_Part_1', 'Q29_B_Part_2', 'Q29_B_Part_3', 'Q29_B_Part_4', 'Q29_B_OTHER', 'Q30_B_Part_1', 'Q30_B_Part_2', 'Q30_B_Part_3', 'Q30_B_Part_4', 'Q30_B_Part_5', 'Q30_B_Part_6', 'Q30_B_Part_7', 'Q30_B_OTHER', 'Q31_B_Part_1', 'Q31_B_Part_2', 'Q31_B_Part_3', 'Q31_B_Part_4', 'Q31_B_Part_5', 'Q31_B_Part_6', 'Q31_B_Part_7', 'Q31_B_Part_8', 'Q31_B_Part_9', 'Q31_B_OTHER', 'Q32_B_Part_1', 'Q32_B_Part_2', 'Q32_B_Part_3', 'Q32_B_Part_4', 'Q32_B_Part_5', 'Q32_B_Part_6', 'Q32_B_Part_7', 'Q32_B_Part_8', 'Q32_B_Part_9', 'Q32_B_Part_10', 'Q32_B_Part_11', 'Q32_B_Part_12', 'Q32_B_Part_13', 'Q32_B_Part_14', 'Q32_B_Part_15', 'Q32_B_Part_16', 'Q32_B_Part_17', 'Q32_B_Part_18', 'Q32_B_Part_19', 'Q32_B_Part_20', 'Q32_B_OTHER', 'Q34_B_Part_1', 'Q34_B_Part_2', 'Q34_B_Part_3', 'Q34_B_Part_4', 'Q34_B_Part_5', 'Q34_B_Part_6', 'Q34_B_Part_7', 'Q34_B_Part_8', 'Q34_B_Part_9', 'Q34_B_Part_10', 'Q34_B_Part_11', 'Q34_B_Part_12', 'Q34_B_Part_13', 'Q34_B_Part_14', 'Q34_B_Part_15', 'Q34_B_Part_16', 'Q34_B_OTHER', 'Q36_B_Part_1', 'Q36_B_Part_2', 'Q36_B_Part_3', 'Q36_B_Part_4', 'Q36_B_Part_5', 'Q36_B_Part_6', 'Q36_B_Part_7', 'Q36_B_OTHER', 'Q37_B_Part_1', 'Q37_B_Part_2', 'Q37_B_Part_3', 'Q37_B_Part_4', 'Q37_B_Part_5', 'Q37_B_Part_6', 'Q37_B_Part_7', 'Q37_B_OTHER', 'Q38_B_Part_1', 'Q38_B_Part_2', 'Q38_B_Part_3', 'Q38_B_Part_4', 'Q38_B_Part_5', 'Q38_B_Part_6', 'Q38_B_Part_7', 'Q38_B_Part_8', 'Q38_B_Part_9', 'Q38_B_Part_10', 'Q38_B_Part_11', 'Q38_B_OTHER']\n"
     ]
    }
   ],
   "source": [
    "print(df_2021.columns.tolist())"
   ]
  },
  {
   "cell_type": "markdown",
   "id": "ab42b2cd",
   "metadata": {},
   "source": [
    "## Each Column Data types  "
   ]
  },
  {
   "cell_type": "code",
   "execution_count": 36,
   "id": "2d3f9228",
   "metadata": {
    "scrolled": false
   },
   "outputs": [
    {
     "name": "stdout",
     "output_type": "stream",
     "text": [
      "Time from Start to Finish (seconds)    object\n",
      "Q1                                     object\n",
      "Q2                                     object\n",
      "Q3                                     object\n",
      "Q4                                     object\n",
      "                                        ...  \n",
      "Q38_B_Part_8                           object\n",
      "Q38_B_Part_9                           object\n",
      "Q38_B_Part_10                          object\n",
      "Q38_B_Part_11                          object\n",
      "Q38_B_OTHER                            object\n",
      "Length: 369, dtype: object\n"
     ]
    }
   ],
   "source": [
    "print(df_2021.dtypes)"
   ]
  },
  {
   "cell_type": "markdown",
   "id": "3837739b",
   "metadata": {},
   "source": [
    "## Null values in Each Column"
   ]
  },
  {
   "cell_type": "code",
   "execution_count": 54,
   "id": "c5c49d97",
   "metadata": {
    "scrolled": true
   },
   "outputs": [
    {
     "data": {
      "text/plain": [
       "Time from Start to Finish (seconds)        0\n",
       "Q1                                         0\n",
       "Q2                                         0\n",
       "Q3                                         0\n",
       "Q4                                         0\n",
       "                                       ...  \n",
       "Q38_B_Part_8                           24953\n",
       "Q38_B_Part_9                           25307\n",
       "Q38_B_Part_10                          23226\n",
       "Q38_B_Part_11                          21431\n",
       "Q38_B_OTHER                            25596\n",
       "Length: 369, dtype: int64"
      ]
     },
     "execution_count": 54,
     "metadata": {},
     "output_type": "execute_result"
    }
   ],
   "source": [
    "df_2021.isnull().sum()"
   ]
  },
  {
   "cell_type": "markdown",
   "id": "f58e3276",
   "metadata": {},
   "source": [
    "## Unique Values in Each Column"
   ]
  },
  {
   "cell_type": "code",
   "execution_count": 38,
   "id": "f2302847",
   "metadata": {
    "scrolled": true
   },
   "outputs": [
    {
     "data": {
      "text/plain": [
       "Time from Start to Finish (seconds)    5409\n",
       "Q1                                       11\n",
       "Q2                                        5\n",
       "Q3                                       66\n",
       "Q4                                        7\n",
       "                                       ... \n",
       "Q38_B_Part_8                              1\n",
       "Q38_B_Part_9                              1\n",
       "Q38_B_Part_10                             1\n",
       "Q38_B_Part_11                             1\n",
       "Q38_B_OTHER                               1\n",
       "Length: 369, dtype: int64"
      ]
     },
     "execution_count": 38,
     "metadata": {},
     "output_type": "execute_result"
    }
   ],
   "source": [
    "df_2021.nunique()"
   ]
  },
  {
   "cell_type": "markdown",
   "id": "5804ebac",
   "metadata": {},
   "source": [
    "## Description Of DataSet"
   ]
  },
  {
   "cell_type": "code",
   "execution_count": 39,
   "id": "82acb8bd",
   "metadata": {
    "scrolled": true
   },
   "outputs": [
    {
     "data": {
      "text/html": [
       "<div>\n",
       "<style scoped>\n",
       "    .dataframe tbody tr th:only-of-type {\n",
       "        vertical-align: middle;\n",
       "    }\n",
       "\n",
       "    .dataframe tbody tr th {\n",
       "        vertical-align: top;\n",
       "    }\n",
       "\n",
       "    .dataframe thead th {\n",
       "        text-align: right;\n",
       "    }\n",
       "</style>\n",
       "<table border=\"1\" class=\"dataframe\">\n",
       "  <thead>\n",
       "    <tr style=\"text-align: right;\">\n",
       "      <th></th>\n",
       "      <th>Time from Start to Finish (seconds)</th>\n",
       "      <th>Q1</th>\n",
       "      <th>Q2</th>\n",
       "      <th>Q3</th>\n",
       "      <th>Q4</th>\n",
       "      <th>Q5</th>\n",
       "      <th>Q6</th>\n",
       "      <th>Q7_Part_1</th>\n",
       "      <th>Q7_Part_2</th>\n",
       "      <th>Q7_Part_3</th>\n",
       "      <th>...</th>\n",
       "      <th>Q38_B_Part_3</th>\n",
       "      <th>Q38_B_Part_4</th>\n",
       "      <th>Q38_B_Part_5</th>\n",
       "      <th>Q38_B_Part_6</th>\n",
       "      <th>Q38_B_Part_7</th>\n",
       "      <th>Q38_B_Part_8</th>\n",
       "      <th>Q38_B_Part_9</th>\n",
       "      <th>Q38_B_Part_10</th>\n",
       "      <th>Q38_B_Part_11</th>\n",
       "      <th>Q38_B_OTHER</th>\n",
       "    </tr>\n",
       "  </thead>\n",
       "  <tbody>\n",
       "    <tr>\n",
       "      <th>count</th>\n",
       "      <td>25973</td>\n",
       "      <td>25973</td>\n",
       "      <td>25973</td>\n",
       "      <td>25973</td>\n",
       "      <td>25973</td>\n",
       "      <td>25973</td>\n",
       "      <td>25973</td>\n",
       "      <td>21860</td>\n",
       "      <td>5334</td>\n",
       "      <td>10756</td>\n",
       "      <td>...</td>\n",
       "      <td>633</td>\n",
       "      <td>591</td>\n",
       "      <td>4239</td>\n",
       "      <td>729</td>\n",
       "      <td>737</td>\n",
       "      <td>1020</td>\n",
       "      <td>666</td>\n",
       "      <td>2747</td>\n",
       "      <td>4542</td>\n",
       "      <td>377</td>\n",
       "    </tr>\n",
       "    <tr>\n",
       "      <th>unique</th>\n",
       "      <td>5409</td>\n",
       "      <td>11</td>\n",
       "      <td>5</td>\n",
       "      <td>66</td>\n",
       "      <td>7</td>\n",
       "      <td>15</td>\n",
       "      <td>7</td>\n",
       "      <td>1</td>\n",
       "      <td>1</td>\n",
       "      <td>1</td>\n",
       "      <td>...</td>\n",
       "      <td>1</td>\n",
       "      <td>1</td>\n",
       "      <td>1</td>\n",
       "      <td>1</td>\n",
       "      <td>1</td>\n",
       "      <td>1</td>\n",
       "      <td>1</td>\n",
       "      <td>1</td>\n",
       "      <td>1</td>\n",
       "      <td>1</td>\n",
       "    </tr>\n",
       "    <tr>\n",
       "      <th>top</th>\n",
       "      <td>484</td>\n",
       "      <td>25-29</td>\n",
       "      <td>Man</td>\n",
       "      <td>India</td>\n",
       "      <td>Master’s degree</td>\n",
       "      <td>Student</td>\n",
       "      <td>1-3 years</td>\n",
       "      <td>Python</td>\n",
       "      <td>R</td>\n",
       "      <td>SQL</td>\n",
       "      <td>...</td>\n",
       "      <td>Comet.ml</td>\n",
       "      <td>Sacred + Omniboard</td>\n",
       "      <td>TensorBoard</td>\n",
       "      <td>Guild.ai</td>\n",
       "      <td>Polyaxon</td>\n",
       "      <td>ClearML</td>\n",
       "      <td>Domino Model Monitor</td>\n",
       "      <td>MLflow</td>\n",
       "      <td>None</td>\n",
       "      <td>Other</td>\n",
       "    </tr>\n",
       "    <tr>\n",
       "      <th>freq</th>\n",
       "      <td>42</td>\n",
       "      <td>4931</td>\n",
       "      <td>20598</td>\n",
       "      <td>7434</td>\n",
       "      <td>10132</td>\n",
       "      <td>6804</td>\n",
       "      <td>7874</td>\n",
       "      <td>21860</td>\n",
       "      <td>5334</td>\n",
       "      <td>10756</td>\n",
       "      <td>...</td>\n",
       "      <td>633</td>\n",
       "      <td>591</td>\n",
       "      <td>4239</td>\n",
       "      <td>729</td>\n",
       "      <td>737</td>\n",
       "      <td>1020</td>\n",
       "      <td>666</td>\n",
       "      <td>2747</td>\n",
       "      <td>4542</td>\n",
       "      <td>377</td>\n",
       "    </tr>\n",
       "  </tbody>\n",
       "</table>\n",
       "<p>4 rows × 369 columns</p>\n",
       "</div>"
      ],
      "text/plain": [
       "        Time from Start to Finish (seconds)     Q1     Q2     Q3  \\\n",
       "count                                 25973  25973  25973  25973   \n",
       "unique                                 5409     11      5     66   \n",
       "top                                     484  25-29    Man  India   \n",
       "freq                                     42   4931  20598   7434   \n",
       "\n",
       "                     Q4       Q5         Q6 Q7_Part_1 Q7_Part_2 Q7_Part_3  \\\n",
       "count             25973    25973      25973     21860      5334     10756   \n",
       "unique                7       15          7         1         1         1   \n",
       "top     Master’s degree  Student  1-3 years    Python         R       SQL   \n",
       "freq              10132     6804       7874     21860      5334     10756   \n",
       "\n",
       "        ... Q38_B_Part_3          Q38_B_Part_4   Q38_B_Part_5 Q38_B_Part_6  \\\n",
       "count   ...          633                   591           4239          729   \n",
       "unique  ...            1                     1              1            1   \n",
       "top     ...    Comet.ml    Sacred + Omniboard    TensorBoard     Guild.ai    \n",
       "freq    ...          633                   591           4239          729   \n",
       "\n",
       "       Q38_B_Part_7 Q38_B_Part_8            Q38_B_Part_9 Q38_B_Part_10  \\\n",
       "count           737         1020                     666          2747   \n",
       "unique            1            1                       1             1   \n",
       "top       Polyaxon      ClearML    Domino Model Monitor        MLflow    \n",
       "freq            737         1020                     666          2747   \n",
       "\n",
       "       Q38_B_Part_11 Q38_B_OTHER  \n",
       "count           4542         377  \n",
       "unique             1           1  \n",
       "top             None       Other  \n",
       "freq            4542         377  \n",
       "\n",
       "[4 rows x 369 columns]"
      ]
     },
     "execution_count": 39,
     "metadata": {},
     "output_type": "execute_result"
    }
   ],
   "source": [
    "df_2021.describe(include=['O'])"
   ]
  },
  {
   "cell_type": "markdown",
   "id": "6697de4a",
   "metadata": {},
   "source": [
    "## Description of Column Q1"
   ]
  },
  {
   "cell_type": "code",
   "execution_count": 40,
   "id": "0370002d",
   "metadata": {},
   "outputs": [
    {
     "data": {
      "text/plain": [
       "count     25973\n",
       "unique       11\n",
       "top       25-29\n",
       "freq       4931\n",
       "Name: Q1, dtype: object"
      ]
     },
     "execution_count": 40,
     "metadata": {},
     "output_type": "execute_result"
    }
   ],
   "source": [
    "df_2021['Q1'].describe()"
   ]
  },
  {
   "cell_type": "markdown",
   "id": "837d75ee",
   "metadata": {},
   "source": [
    "## Preliminary Visualizations"
   ]
  },
  {
   "cell_type": "code",
   "execution_count": 61,
   "id": "3307f6fd",
   "metadata": {
    "scrolled": true
   },
   "outputs": [
    {
     "data": {
      "text/plain": [
       "Text(0.5, 1.0, 'Age Groups Participated in Survey')"
      ]
     },
     "execution_count": 61,
     "metadata": {},
     "output_type": "execute_result"
    },
    {
     "data": {
      "image/png": "[encoded data removed]",
      "text/plain": [
       "<Figure size 432x288 with 1 Axes>"
      ]
     },
     "metadata": {},
     "output_type": "display_data"
    }
   ],
   "source": [
    "sns.set()\n",
    "ax = sns.countplot(x=\"Q1\",data=df_2021)\n",
    "plt.xlabel('Age Groups',fontsize = 15) \n",
    "plt.ylabel('Count', fontsize = 15) \n",
    "plt.title(\"Age Groups Participated in Survey\", fontsize = 15)"
   ]
  },
  {
   "cell_type": "markdown",
   "id": "18019ee1",
   "metadata": {},
   "source": [
    "## Description of Column Q2"
   ]
  },
  {
   "cell_type": "code",
   "execution_count": 69,
   "id": "d702639d",
   "metadata": {},
   "outputs": [
    {
     "data": {
      "text/plain": [
       "count     25973\n",
       "unique        5\n",
       "top         Man\n",
       "freq      20598\n",
       "Name: Q2, dtype: object"
      ]
     },
     "execution_count": 69,
     "metadata": {},
     "output_type": "execute_result"
    }
   ],
   "source": [
    "df_2021['Q2'].describe()"
   ]
  },
  {
   "cell_type": "code",
   "execution_count": 64,
   "id": "3530e5f0",
   "metadata": {},
   "outputs": [
    {
     "data": {
      "text/plain": [
       "Text(0.5, 1.0, 'Gender for the People Participated in Survey')"
      ]
     },
     "execution_count": 64,
     "metadata": {},
     "output_type": "execute_result"
    },
    {
     "data": {
      "image/png": "[encoded data removed]",
      "text/plain": [
       "<Figure size 432x288 with 1 Axes>"
      ]
     },
     "metadata": {},
     "output_type": "display_data"
    }
   ],
   "source": [
    "sns.set()\n",
    "ax = sns.countplot(y=\"Q2\",data=df_2021)\n",
    "plt.xlabel('Count',fontsize = 15) \n",
    "plt.ylabel('Gender', fontsize = 15) \n",
    "plt.title(\"Gender for the People Participated in Survey\", fontsize = 15)"
   ]
  },
  {
   "cell_type": "markdown",
   "id": "6db7fd7c",
   "metadata": {},
   "source": [
    "## Description of Column Q21"
   ]
  },
  {
   "cell_type": "code",
   "execution_count": 70,
   "id": "7c9b5617",
   "metadata": {},
   "outputs": [
    {
     "data": {
      "text/plain": [
       "count              16251\n",
       "unique                 5\n",
       "top       0-49 employees\n",
       "freq                5055\n",
       "Name: Q21, dtype: object"
      ]
     },
     "execution_count": 70,
     "metadata": {},
     "output_type": "execute_result"
    }
   ],
   "source": [
    "df_2021['Q21'].describe()"
   ]
  },
  {
   "cell_type": "code",
   "execution_count": 68,
   "id": "25a0eb5d",
   "metadata": {},
   "outputs": [
    {
     "data": {
      "text/plain": [
       "Text(0.5, 1.0, 'Company Size of Data Science Employers')"
      ]
     },
     "execution_count": 68,
     "metadata": {},
     "output_type": "execute_result"
    },
    {
     "data": {
      "image/png": "[encoded data removed]",
      "text/plain": [
       "<Figure size 432x288 with 1 Axes>"
      ]
     },
     "metadata": {},
     "output_type": "display_data"
    }
   ],
   "source": [
    "sns.set()\n",
    "ax = sns.countplot(y=\"Q21\",data=df_2021)\n",
    "plt.xlabel('Count',fontsize = 15) \n",
    "plt.ylabel('Company Size', fontsize = 15) \n",
    "plt.title(\"Company Size of Data Science Employers\", fontsize = 15)"
   ]
  }
 ],
 "metadata": {
  "kernelspec": {
   "display_name": "Python 3",
   "language": "python",
   "name": "python3"
  },
  "language_info": {
   "codemirror_mode": {
    "name": "ipython",
    "version": 3
   },
   "file_extension": ".py",
   "mimetype": "text/x-python",
   "name": "python",
   "nbconvert_exporter": "python",
   "pygments_lexer": "ipython3",
   "version": "3.8.8"
  }
 },
 "nbformat": 4,
 "nbformat_minor": 5
}
